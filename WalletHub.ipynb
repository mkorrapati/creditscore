{
 "cells": [
  {
   "cell_type": "code",
   "execution_count": 1,
   "metadata": {
    "collapsed": true
   },
   "outputs": [],
   "source": [
    "import pandas as pd\n",
    "# Comment this if the data visualisations doesn't work on your side\n",
    "%matplotlib inline\n",
    "import seaborn as sns\n",
    "import matplotlib.pyplot as plt\n",
    "import numpy as np\n",
    "\n",
    "plt.style.use('bmh')"
   ]
  },
  {
   "cell_type": "code",
   "execution_count": 2,
   "metadata": {
    "collapsed": true
   },
   "outputs": [],
   "source": [
    "#Define some constants\n",
    "MISSING_VAL_THRESHOLD_TO_DROP = 0.7\n",
    "MAX_UNIQUE_VALS_IN_CATEGORY_VARS = 25\n",
    "MIN_CORR_THRESHOLD = 0.5\n",
    "SKEWED_DATA_THRESHOLD = 0.9\n",
    "NUM_POLYNOMIAL_FEATURES = 5"
   ]
  },
  {
   "cell_type": "code",
   "execution_count": 3,
   "metadata": {
    "collapsed": true
   },
   "outputs": [],
   "source": [
    "data_df = pd.read_csv('wallethub_dataset_train.csv')"
   ]
  },
  {
   "cell_type": "code",
   "execution_count": 4,
   "metadata": {
    "collapsed": false
   },
   "outputs": [
    {
     "data": {
      "text/html": [
       "<div>\n",
       "<style>\n",
       "    .dataframe thead tr:only-child th {\n",
       "        text-align: right;\n",
       "    }\n",
       "\n",
       "    .dataframe thead th {\n",
       "        text-align: left;\n",
       "    }\n",
       "\n",
       "    .dataframe tbody tr th {\n",
       "        vertical-align: top;\n",
       "    }\n",
       "</style>\n",
       "<table border=\"1\" class=\"dataframe\">\n",
       "  <thead>\n",
       "    <tr style=\"text-align: right;\">\n",
       "      <th></th>\n",
       "      <th>x001</th>\n",
       "      <th>x002</th>\n",
       "      <th>x003</th>\n",
       "      <th>x004</th>\n",
       "      <th>x005</th>\n",
       "      <th>x006</th>\n",
       "      <th>x007</th>\n",
       "      <th>x008</th>\n",
       "      <th>x009</th>\n",
       "      <th>x010</th>\n",
       "      <th>...</th>\n",
       "      <th>x296</th>\n",
       "      <th>x297</th>\n",
       "      <th>x298</th>\n",
       "      <th>x299</th>\n",
       "      <th>x300</th>\n",
       "      <th>x301</th>\n",
       "      <th>x302</th>\n",
       "      <th>x303</th>\n",
       "      <th>x304</th>\n",
       "      <th>y</th>\n",
       "    </tr>\n",
       "  </thead>\n",
       "  <tbody>\n",
       "    <tr>\n",
       "      <th>0</th>\n",
       "      <td>1540332</td>\n",
       "      <td>NaN</td>\n",
       "      <td>NaN</td>\n",
       "      <td>NaN</td>\n",
       "      <td>8.0</td>\n",
       "      <td>1</td>\n",
       "      <td>0</td>\n",
       "      <td>1</td>\n",
       "      <td>0</td>\n",
       "      <td>0</td>\n",
       "      <td>...</td>\n",
       "      <td>0</td>\n",
       "      <td>NaN</td>\n",
       "      <td>0</td>\n",
       "      <td>0</td>\n",
       "      <td>0</td>\n",
       "      <td>0</td>\n",
       "      <td>NaN</td>\n",
       "      <td>0</td>\n",
       "      <td>NaN</td>\n",
       "      <td>706</td>\n",
       "    </tr>\n",
       "    <tr>\n",
       "      <th>1</th>\n",
       "      <td>823066</td>\n",
       "      <td>4.0</td>\n",
       "      <td>3.0</td>\n",
       "      <td>3.0</td>\n",
       "      <td>4.0</td>\n",
       "      <td>0</td>\n",
       "      <td>2</td>\n",
       "      <td>2</td>\n",
       "      <td>0</td>\n",
       "      <td>0</td>\n",
       "      <td>...</td>\n",
       "      <td>5206</td>\n",
       "      <td>0.9339</td>\n",
       "      <td>1</td>\n",
       "      <td>1</td>\n",
       "      <td>1</td>\n",
       "      <td>0</td>\n",
       "      <td>NaN</td>\n",
       "      <td>0</td>\n",
       "      <td>NaN</td>\n",
       "      <td>558</td>\n",
       "    </tr>\n",
       "    <tr>\n",
       "      <th>2</th>\n",
       "      <td>1089795</td>\n",
       "      <td>NaN</td>\n",
       "      <td>NaN</td>\n",
       "      <td>NaN</td>\n",
       "      <td>96.0</td>\n",
       "      <td>1</td>\n",
       "      <td>0</td>\n",
       "      <td>0</td>\n",
       "      <td>0</td>\n",
       "      <td>1</td>\n",
       "      <td>...</td>\n",
       "      <td>0</td>\n",
       "      <td>NaN</td>\n",
       "      <td>0</td>\n",
       "      <td>0</td>\n",
       "      <td>0</td>\n",
       "      <td>0</td>\n",
       "      <td>NaN</td>\n",
       "      <td>0</td>\n",
       "      <td>NaN</td>\n",
       "      <td>577</td>\n",
       "    </tr>\n",
       "    <tr>\n",
       "      <th>3</th>\n",
       "      <td>1147758</td>\n",
       "      <td>63.0</td>\n",
       "      <td>14.0</td>\n",
       "      <td>38.0</td>\n",
       "      <td>258.0</td>\n",
       "      <td>0</td>\n",
       "      <td>0</td>\n",
       "      <td>0</td>\n",
       "      <td>1</td>\n",
       "      <td>2</td>\n",
       "      <td>...</td>\n",
       "      <td>0</td>\n",
       "      <td>NaN</td>\n",
       "      <td>1</td>\n",
       "      <td>1</td>\n",
       "      <td>1</td>\n",
       "      <td>0</td>\n",
       "      <td>NaN</td>\n",
       "      <td>0</td>\n",
       "      <td>NaN</td>\n",
       "      <td>526</td>\n",
       "    </tr>\n",
       "    <tr>\n",
       "      <th>4</th>\n",
       "      <td>1229670</td>\n",
       "      <td>34.0</td>\n",
       "      <td>25.0</td>\n",
       "      <td>29.0</td>\n",
       "      <td>34.0</td>\n",
       "      <td>1</td>\n",
       "      <td>0</td>\n",
       "      <td>0</td>\n",
       "      <td>0</td>\n",
       "      <td>3</td>\n",
       "      <td>...</td>\n",
       "      <td>0</td>\n",
       "      <td>NaN</td>\n",
       "      <td>0</td>\n",
       "      <td>0</td>\n",
       "      <td>0</td>\n",
       "      <td>0</td>\n",
       "      <td>NaN</td>\n",
       "      <td>0</td>\n",
       "      <td>NaN</td>\n",
       "      <td>496</td>\n",
       "    </tr>\n",
       "  </tbody>\n",
       "</table>\n",
       "<p>5 rows × 305 columns</p>\n",
       "</div>"
      ],
      "text/plain": [
       "      x001  x002  x003  x004   x005  x006  x007  x008  x009  x010 ...   x296  \\\n",
       "0  1540332   NaN   NaN   NaN    8.0     1     0     1     0     0 ...      0   \n",
       "1   823066   4.0   3.0   3.0    4.0     0     2     2     0     0 ...   5206   \n",
       "2  1089795   NaN   NaN   NaN   96.0     1     0     0     0     1 ...      0   \n",
       "3  1147758  63.0  14.0  38.0  258.0     0     0     0     1     2 ...      0   \n",
       "4  1229670  34.0  25.0  29.0   34.0     1     0     0     0     3 ...      0   \n",
       "\n",
       "     x297  x298  x299  x300  x301  x302  x303  x304    y  \n",
       "0     NaN     0     0     0     0   NaN     0   NaN  706  \n",
       "1  0.9339     1     1     1     0   NaN     0   NaN  558  \n",
       "2     NaN     0     0     0     0   NaN     0   NaN  577  \n",
       "3     NaN     1     1     1     0   NaN     0   NaN  526  \n",
       "4     NaN     0     0     0     0   NaN     0   NaN  496  \n",
       "\n",
       "[5 rows x 305 columns]"
      ]
     },
     "execution_count": 4,
     "metadata": {},
     "output_type": "execute_result"
    }
   ],
   "source": [
    "data_df.head()"
   ]
  },
  {
   "cell_type": "code",
   "execution_count": 5,
   "metadata": {
    "collapsed": false
   },
   "outputs": [
    {
     "data": {
      "text/plain": [
       "(70000, 305)"
      ]
     },
     "execution_count": 5,
     "metadata": {},
     "output_type": "execute_result"
    }
   ],
   "source": [
    "data_df.shape"
   ]
  },
  {
   "cell_type": "code",
   "execution_count": 6,
   "metadata": {
    "collapsed": false
   },
   "outputs": [
    {
     "name": "stdout",
     "output_type": "stream",
     "text": [
      "<class 'pandas.core.frame.DataFrame'>\n",
      "RangeIndex: 70000 entries, 0 to 69999\n",
      "Columns: 305 entries, x001 to y\n",
      "dtypes: float64(41), int64(264)\n",
      "memory usage: 162.9 MB\n"
     ]
    }
   ],
   "source": [
    "data_df.info()"
   ]
  },
  {
   "cell_type": "markdown",
   "metadata": {},
   "source": [
    "#### All variables are of type int64 or float64. That means we don't know which IVs are categorical"
   ]
  },
  {
   "cell_type": "code",
   "execution_count": 7,
   "metadata": {
    "collapsed": true
   },
   "outputs": [],
   "source": [
    "excl_columns = []\n",
    "new_columns = []"
   ]
  },
  {
   "cell_type": "markdown",
   "metadata": {},
   "source": [
    "#### There are so many features to analyse that it may be better to concentrate on the ones which can give us real insights. Let's just remove the features with 30% or less NaN values."
   ]
  },
  {
   "cell_type": "code",
   "execution_count": 8,
   "metadata": {
    "collapsed": false
   },
   "outputs": [
    {
     "name": "stdout",
     "output_type": "stream",
     "text": [
      "List of dropped columns: x041, x057, x058, x098, x148, x155, x162, x222, x223, x237, x238, x239, x242, x253, x255, x256, x257, x259, x265, x266, x267, x268, x275, x288, x289, x290, x293, x295, x297, x302, x304, \n",
      "\n"
     ]
    }
   ],
   "source": [
    "# df.count() does not include NaN values\n",
    "df2 = data_df[[column for column in data_df if data_df[column].count() / len(data_df) >= MISSING_VAL_THRESHOLD_TO_DROP]]\n",
    "print(\"List of dropped columns:\", end=\" \")\n",
    "cols_missing_data = []\n",
    "for c in data_df.columns:\n",
    "    if c not in df2.columns:\n",
    "        cols_missing_data.append(c)\n",
    "        print(c, end=\", \")\n",
    "print('\\n')\n",
    "#curr_df = df2\n",
    "excl_columns.extend(cols_missing_data)"
   ]
  },
  {
   "cell_type": "markdown",
   "metadata": {},
   "source": [
    "#### Keep track of variables that have missing values"
   ]
  },
  {
   "cell_type": "code",
   "execution_count": 9,
   "metadata": {
    "collapsed": false
   },
   "outputs": [
    {
     "data": {
      "text/plain": [
       "(70000, 274)"
      ]
     },
     "execution_count": 9,
     "metadata": {},
     "output_type": "execute_result"
    }
   ],
   "source": [
    "df2.shape"
   ]
  },
  {
   "cell_type": "code",
   "execution_count": 10,
   "metadata": {
    "collapsed": true
   },
   "outputs": [],
   "source": [
    "cols_with_missing_vals = [column for column in df2 if df2[column].count() / len(df2) < 1]"
   ]
  },
  {
   "cell_type": "code",
   "execution_count": 11,
   "metadata": {
    "collapsed": false
   },
   "outputs": [
    {
     "data": {
      "text/plain": [
       "['x002',\n",
       " 'x003',\n",
       " 'x004',\n",
       " 'x005',\n",
       " 'x044',\n",
       " 'x045',\n",
       " 'x234',\n",
       " 'x235',\n",
       " 'x272',\n",
       " 'x287']"
      ]
     },
     "execution_count": 11,
     "metadata": {},
     "output_type": "execute_result"
    }
   ],
   "source": [
    "cols_with_missing_vals"
   ]
  },
  {
   "cell_type": "code",
   "execution_count": 12,
   "metadata": {
    "collapsed": false
   },
   "outputs": [
    {
     "data": {
      "text/html": [
       "<div>\n",
       "<style>\n",
       "    .dataframe thead tr:only-child th {\n",
       "        text-align: right;\n",
       "    }\n",
       "\n",
       "    .dataframe thead th {\n",
       "        text-align: left;\n",
       "    }\n",
       "\n",
       "    .dataframe tbody tr th {\n",
       "        vertical-align: top;\n",
       "    }\n",
       "</style>\n",
       "<table border=\"1\" class=\"dataframe\">\n",
       "  <thead>\n",
       "    <tr style=\"text-align: right;\">\n",
       "      <th></th>\n",
       "      <th>count</th>\n",
       "      <th>mean</th>\n",
       "      <th>std</th>\n",
       "      <th>min</th>\n",
       "      <th>25%</th>\n",
       "      <th>50%</th>\n",
       "      <th>75%</th>\n",
       "      <th>max</th>\n",
       "    </tr>\n",
       "  </thead>\n",
       "  <tbody>\n",
       "    <tr>\n",
       "      <th>x002</th>\n",
       "      <td>55055.0</td>\n",
       "      <td>125.688294</td>\n",
       "      <td>115.674667</td>\n",
       "      <td>0.0</td>\n",
       "      <td>32.0000</td>\n",
       "      <td>100.0000</td>\n",
       "      <td>180.0000</td>\n",
       "      <td>713.0</td>\n",
       "    </tr>\n",
       "    <tr>\n",
       "      <th>x003</th>\n",
       "      <td>55055.0</td>\n",
       "      <td>25.525002</td>\n",
       "      <td>48.865104</td>\n",
       "      <td>0.0</td>\n",
       "      <td>3.0000</td>\n",
       "      <td>8.0000</td>\n",
       "      <td>24.0000</td>\n",
       "      <td>704.0</td>\n",
       "    </tr>\n",
       "    <tr>\n",
       "      <th>x004</th>\n",
       "      <td>55058.0</td>\n",
       "      <td>65.422863</td>\n",
       "      <td>63.569254</td>\n",
       "      <td>0.0</td>\n",
       "      <td>19.0000</td>\n",
       "      <td>48.0000</td>\n",
       "      <td>92.0000</td>\n",
       "      <td>704.0</td>\n",
       "    </tr>\n",
       "    <tr>\n",
       "      <th>x005</th>\n",
       "      <td>65725.0</td>\n",
       "      <td>178.185789</td>\n",
       "      <td>124.558655</td>\n",
       "      <td>0.0</td>\n",
       "      <td>87.0000</td>\n",
       "      <td>150.0000</td>\n",
       "      <td>246.0000</td>\n",
       "      <td>808.0</td>\n",
       "    </tr>\n",
       "    <tr>\n",
       "      <th>x044</th>\n",
       "      <td>56224.0</td>\n",
       "      <td>23444.267395</td>\n",
       "      <td>78164.253164</td>\n",
       "      <td>0.0</td>\n",
       "      <td>1000.0000</td>\n",
       "      <td>6000.0000</td>\n",
       "      <td>20000.0000</td>\n",
       "      <td>4500000.0</td>\n",
       "    </tr>\n",
       "    <tr>\n",
       "      <th>x045</th>\n",
       "      <td>56224.0</td>\n",
       "      <td>840.598997</td>\n",
       "      <td>2784.346649</td>\n",
       "      <td>0.0</td>\n",
       "      <td>200.0000</td>\n",
       "      <td>300.0000</td>\n",
       "      <td>500.0000</td>\n",
       "      <td>170500.0</td>\n",
       "    </tr>\n",
       "    <tr>\n",
       "      <th>x234</th>\n",
       "      <td>56612.0</td>\n",
       "      <td>3115.436268</td>\n",
       "      <td>5673.613543</td>\n",
       "      <td>0.0</td>\n",
       "      <td>375.0000</td>\n",
       "      <td>1085.0000</td>\n",
       "      <td>3671.2500</td>\n",
       "      <td>377000.0</td>\n",
       "    </tr>\n",
       "    <tr>\n",
       "      <th>x235</th>\n",
       "      <td>55936.0</td>\n",
       "      <td>10233.834990</td>\n",
       "      <td>11960.040197</td>\n",
       "      <td>0.0</td>\n",
       "      <td>1000.0000</td>\n",
       "      <td>5500.0000</td>\n",
       "      <td>16000.0000</td>\n",
       "      <td>250000.0</td>\n",
       "    </tr>\n",
       "    <tr>\n",
       "      <th>x272</th>\n",
       "      <td>64948.0</td>\n",
       "      <td>0.600023</td>\n",
       "      <td>5.570985</td>\n",
       "      <td>0.0</td>\n",
       "      <td>0.0762</td>\n",
       "      <td>0.2874</td>\n",
       "      <td>0.5691</td>\n",
       "      <td>608.1</td>\n",
       "    </tr>\n",
       "    <tr>\n",
       "      <th>x287</th>\n",
       "      <td>52592.0</td>\n",
       "      <td>3.241900</td>\n",
       "      <td>3.094834</td>\n",
       "      <td>1.0</td>\n",
       "      <td>1.0000</td>\n",
       "      <td>1.0000</td>\n",
       "      <td>5.0000</td>\n",
       "      <td>9.0</td>\n",
       "    </tr>\n",
       "  </tbody>\n",
       "</table>\n",
       "</div>"
      ],
      "text/plain": [
       "        count          mean           std  min        25%        50%  \\\n",
       "x002  55055.0    125.688294    115.674667  0.0    32.0000   100.0000   \n",
       "x003  55055.0     25.525002     48.865104  0.0     3.0000     8.0000   \n",
       "x004  55058.0     65.422863     63.569254  0.0    19.0000    48.0000   \n",
       "x005  65725.0    178.185789    124.558655  0.0    87.0000   150.0000   \n",
       "x044  56224.0  23444.267395  78164.253164  0.0  1000.0000  6000.0000   \n",
       "x045  56224.0    840.598997   2784.346649  0.0   200.0000   300.0000   \n",
       "x234  56612.0   3115.436268   5673.613543  0.0   375.0000  1085.0000   \n",
       "x235  55936.0  10233.834990  11960.040197  0.0  1000.0000  5500.0000   \n",
       "x272  64948.0      0.600023      5.570985  0.0     0.0762     0.2874   \n",
       "x287  52592.0      3.241900      3.094834  1.0     1.0000     1.0000   \n",
       "\n",
       "             75%        max  \n",
       "x002    180.0000      713.0  \n",
       "x003     24.0000      704.0  \n",
       "x004     92.0000      704.0  \n",
       "x005    246.0000      808.0  \n",
       "x044  20000.0000  4500000.0  \n",
       "x045    500.0000   170500.0  \n",
       "x234   3671.2500   377000.0  \n",
       "x235  16000.0000   250000.0  \n",
       "x272      0.5691      608.1  \n",
       "x287      5.0000        9.0  "
      ]
     },
     "execution_count": 12,
     "metadata": {},
     "output_type": "execute_result"
    }
   ],
   "source": [
    "data_temp = data_df[cols_with_missing_vals]\n",
    "data_temp.describe().T"
   ]
  },
  {
   "cell_type": "code",
   "execution_count": 13,
   "metadata": {
    "collapsed": false
   },
   "outputs": [
    {
     "name": "stdout",
     "output_type": "stream",
     "text": [
      "Unique value count in x002: 651\n",
      "\n",
      "Unique value count in x003: 438\n",
      "\n",
      "Unique value count in x004: 476\n",
      "\n",
      "Unique value count in x005: 687\n",
      "\n",
      "Unique value count in x044: 3567\n",
      "\n",
      "Unique value count in x045: 1080\n",
      "\n",
      "Unique value count in x234: 11824\n",
      "\n",
      "Unique value count in x235: 2479\n",
      "\n",
      "Unique value count in x272: 12344\n",
      "\n",
      "Unique value count in x287: 9\n",
      "\n"
     ]
    }
   ],
   "source": [
    "for c in cols_with_missing_vals:\n",
    "    print(\"Unique value count in {}: {}\\n\".format(c, len(data_temp[c].unique())))"
   ]
  },
  {
   "cell_type": "markdown",
   "metadata": {},
   "source": [
    "#### Only x287 seems to be categorical variable out of missing columns. Fill that with high frequency value and others with mean"
   ]
  },
  {
   "cell_type": "code",
   "execution_count": 14,
   "metadata": {
    "collapsed": false
   },
   "outputs": [
    {
     "data": {
      "text/plain": [
       "1.0    29098\n",
       "9.0     9404\n",
       "5.0     6223\n",
       "2.0     3869\n",
       "3.0     1727\n",
       "4.0     1272\n",
       "8.0      649\n",
       "7.0      350\n",
       "Name: x287, dtype: int64"
      ]
     },
     "execution_count": 14,
     "metadata": {},
     "output_type": "execute_result"
    }
   ],
   "source": [
    "data_temp['x287'].value_counts()"
   ]
  },
  {
   "cell_type": "code",
   "execution_count": 15,
   "metadata": {
    "collapsed": false
   },
   "outputs": [],
   "source": [
    "data_df['x287'].fillna(1.0, axis=0, inplace=True)\n",
    "for c in cols_with_missing_vals:\n",
    "    if c != 'x287':\n",
    "        data_df[c].fillna(data_df[c].mean(), inplace=True, axis=0)"
   ]
  },
  {
   "cell_type": "code",
   "execution_count": 16,
   "metadata": {
    "collapsed": false
   },
   "outputs": [
    {
     "data": {
      "text/html": [
       "<div>\n",
       "<style>\n",
       "    .dataframe thead tr:only-child th {\n",
       "        text-align: right;\n",
       "    }\n",
       "\n",
       "    .dataframe thead th {\n",
       "        text-align: left;\n",
       "    }\n",
       "\n",
       "    .dataframe tbody tr th {\n",
       "        vertical-align: top;\n",
       "    }\n",
       "</style>\n",
       "<table border=\"1\" class=\"dataframe\">\n",
       "  <thead>\n",
       "    <tr style=\"text-align: right;\">\n",
       "      <th></th>\n",
       "      <th>count</th>\n",
       "      <th>mean</th>\n",
       "      <th>std</th>\n",
       "      <th>min</th>\n",
       "      <th>25%</th>\n",
       "      <th>50%</th>\n",
       "      <th>75%</th>\n",
       "      <th>max</th>\n",
       "    </tr>\n",
       "  </thead>\n",
       "  <tbody>\n",
       "    <tr>\n",
       "      <th>x002</th>\n",
       "      <td>70000.0</td>\n",
       "      <td>125.688294</td>\n",
       "      <td>102.585689</td>\n",
       "      <td>0.0</td>\n",
       "      <td>46.0000</td>\n",
       "      <td>125.688294</td>\n",
       "      <td>152.000000</td>\n",
       "      <td>713.0</td>\n",
       "    </tr>\n",
       "    <tr>\n",
       "      <th>x003</th>\n",
       "      <td>70000.0</td>\n",
       "      <td>25.525002</td>\n",
       "      <td>43.335853</td>\n",
       "      <td>0.0</td>\n",
       "      <td>4.0000</td>\n",
       "      <td>14.000000</td>\n",
       "      <td>25.525002</td>\n",
       "      <td>704.0</td>\n",
       "    </tr>\n",
       "    <tr>\n",
       "      <th>x004</th>\n",
       "      <td>70000.0</td>\n",
       "      <td>65.422863</td>\n",
       "      <td>56.377715</td>\n",
       "      <td>0.0</td>\n",
       "      <td>26.0000</td>\n",
       "      <td>65.422863</td>\n",
       "      <td>77.000000</td>\n",
       "      <td>704.0</td>\n",
       "    </tr>\n",
       "    <tr>\n",
       "      <th>x005</th>\n",
       "      <td>70000.0</td>\n",
       "      <td>178.185789</td>\n",
       "      <td>120.695197</td>\n",
       "      <td>0.0</td>\n",
       "      <td>93.0000</td>\n",
       "      <td>159.000000</td>\n",
       "      <td>237.000000</td>\n",
       "      <td>808.0</td>\n",
       "    </tr>\n",
       "    <tr>\n",
       "      <th>x044</th>\n",
       "      <td>70000.0</td>\n",
       "      <td>23444.267395</td>\n",
       "      <td>70051.795713</td>\n",
       "      <td>0.0</td>\n",
       "      <td>1736.0000</td>\n",
       "      <td>11000.000000</td>\n",
       "      <td>23444.267395</td>\n",
       "      <td>4500000.0</td>\n",
       "    </tr>\n",
       "    <tr>\n",
       "      <th>x045</th>\n",
       "      <td>70000.0</td>\n",
       "      <td>840.598997</td>\n",
       "      <td>2495.366805</td>\n",
       "      <td>0.0</td>\n",
       "      <td>200.0000</td>\n",
       "      <td>350.000000</td>\n",
       "      <td>840.598997</td>\n",
       "      <td>170500.0</td>\n",
       "    </tr>\n",
       "    <tr>\n",
       "      <th>x234</th>\n",
       "      <td>70000.0</td>\n",
       "      <td>3115.436268</td>\n",
       "      <td>5102.279507</td>\n",
       "      <td>0.0</td>\n",
       "      <td>463.0000</td>\n",
       "      <td>2010.000000</td>\n",
       "      <td>3115.436268</td>\n",
       "      <td>377000.0</td>\n",
       "    </tr>\n",
       "    <tr>\n",
       "      <th>x235</th>\n",
       "      <td>70000.0</td>\n",
       "      <td>10233.834990</td>\n",
       "      <td>10691.251418</td>\n",
       "      <td>0.0</td>\n",
       "      <td>1700.0000</td>\n",
       "      <td>10000.000000</td>\n",
       "      <td>13000.000000</td>\n",
       "      <td>250000.0</td>\n",
       "    </tr>\n",
       "    <tr>\n",
       "      <th>x272</th>\n",
       "      <td>70000.0</td>\n",
       "      <td>0.600023</td>\n",
       "      <td>5.366185</td>\n",
       "      <td>0.0</td>\n",
       "      <td>0.0925</td>\n",
       "      <td>0.320900</td>\n",
       "      <td>0.600023</td>\n",
       "      <td>608.1</td>\n",
       "    </tr>\n",
       "    <tr>\n",
       "      <th>x287</th>\n",
       "      <td>70000.0</td>\n",
       "      <td>2.684371</td>\n",
       "      <td>2.852219</td>\n",
       "      <td>1.0</td>\n",
       "      <td>1.0000</td>\n",
       "      <td>1.000000</td>\n",
       "      <td>4.000000</td>\n",
       "      <td>9.0</td>\n",
       "    </tr>\n",
       "  </tbody>\n",
       "</table>\n",
       "</div>"
      ],
      "text/plain": [
       "        count          mean           std  min        25%           50%  \\\n",
       "x002  70000.0    125.688294    102.585689  0.0    46.0000    125.688294   \n",
       "x003  70000.0     25.525002     43.335853  0.0     4.0000     14.000000   \n",
       "x004  70000.0     65.422863     56.377715  0.0    26.0000     65.422863   \n",
       "x005  70000.0    178.185789    120.695197  0.0    93.0000    159.000000   \n",
       "x044  70000.0  23444.267395  70051.795713  0.0  1736.0000  11000.000000   \n",
       "x045  70000.0    840.598997   2495.366805  0.0   200.0000    350.000000   \n",
       "x234  70000.0   3115.436268   5102.279507  0.0   463.0000   2010.000000   \n",
       "x235  70000.0  10233.834990  10691.251418  0.0  1700.0000  10000.000000   \n",
       "x272  70000.0      0.600023      5.366185  0.0     0.0925      0.320900   \n",
       "x287  70000.0      2.684371      2.852219  1.0     1.0000      1.000000   \n",
       "\n",
       "               75%        max  \n",
       "x002    152.000000      713.0  \n",
       "x003     25.525002      704.0  \n",
       "x004     77.000000      704.0  \n",
       "x005    237.000000      808.0  \n",
       "x044  23444.267395  4500000.0  \n",
       "x045    840.598997   170500.0  \n",
       "x234   3115.436268   377000.0  \n",
       "x235  13000.000000   250000.0  \n",
       "x272      0.600023      608.1  \n",
       "x287      4.000000        9.0  "
      ]
     },
     "execution_count": 16,
     "metadata": {},
     "output_type": "execute_result"
    }
   ],
   "source": [
    "data_df[cols_with_missing_vals].describe().T"
   ]
  },
  {
   "cell_type": "code",
   "execution_count": 17,
   "metadata": {
    "collapsed": false
   },
   "outputs": [
    {
     "data": {
      "text/plain": [
       "(70000, 274)"
      ]
     },
     "execution_count": 17,
     "metadata": {},
     "output_type": "execute_result"
    }
   ],
   "source": [
    "df2 = data_df.drop(excl_columns, axis=1)\n",
    "df2.shape"
   ]
  },
  {
   "cell_type": "markdown",
   "metadata": {},
   "source": [
    "#### Check if all null values are fixed"
   ]
  },
  {
   "cell_type": "code",
   "execution_count": 18,
   "metadata": {
    "collapsed": false
   },
   "outputs": [
    {
     "data": {
      "text/plain": [
       "[]"
      ]
     },
     "execution_count": 18,
     "metadata": {},
     "output_type": "execute_result"
    }
   ],
   "source": [
    "df2.columns[df2.isnull().any()].tolist()"
   ]
  },
  {
   "cell_type": "markdown",
   "metadata": {},
   "source": [
    "#### Some of the columns are highly skewed with zeros. Transform them into binary variables"
   ]
  },
  {
   "cell_type": "raw",
   "metadata": {
    "collapsed": false
   },
   "source": [
    "transform_cols = []\n",
    "for c in df2.columns:\n",
    "    for item in data_df[c].value_counts().iteritems():\n",
    "        if item[1]/len(data_df[c]) > SKEWED_DATA_THRESHOLD:\n",
    "            transform_cols.append((c, item[0]))"
   ]
  },
  {
   "cell_type": "raw",
   "metadata": {
    "collapsed": false
   },
   "source": [
    "transform_cols"
   ]
  },
  {
   "cell_type": "raw",
   "metadata": {
    "collapsed": false
   },
   "source": [
    "for item in transform_cols:\n",
    "    new_col = \"{}_{}\".format(item[0], item[1])\n",
    "    data_df[new_col] = (data_df[item[0]]==item[1])\n",
    "    data_df[new_col] = data_df[new_col].astype(int)\n",
    "    new_columns.append(new_col)\n",
    "    excl_columns.append(item[0])"
   ]
  },
  {
   "cell_type": "raw",
   "metadata": {
    "collapsed": false,
    "scrolled": true
   },
   "source": [
    "data_df['x180_0'].value_counts()"
   ]
  },
  {
   "cell_type": "code",
   "execution_count": 19,
   "metadata": {
    "collapsed": false
   },
   "outputs": [
    {
     "data": {
      "text/plain": [
       "(70000, 274)"
      ]
     },
     "execution_count": 19,
     "metadata": {},
     "output_type": "execute_result"
    }
   ],
   "source": [
    "df2 = data_df.drop(excl_columns, axis=1)\n",
    "df2.shape"
   ]
  },
  {
   "cell_type": "markdown",
   "metadata": {},
   "source": [
    "#### Deal with categorical variables"
   ]
  },
  {
   "cell_type": "code",
   "execution_count": 20,
   "metadata": {
    "collapsed": false
   },
   "outputs": [
    {
     "name": "stdout",
     "output_type": "stream",
     "text": [
      "116\n"
     ]
    }
   ],
   "source": [
    "col = [c for c in df2.columns if c not in ['y']]\n",
    "numclasses=[]\n",
    "for c in col:\n",
    "    numclasses.append(len(np.unique(df2[[c]])))\n",
    "\n",
    "threshold=MAX_UNIQUE_VALS_IN_CATEGORY_VARS\n",
    "categorical_variables = list(np.array(col)[np.array(numclasses)<threshold])\n",
    "print(len(categorical_variables))"
   ]
  },
  {
   "cell_type": "code",
   "execution_count": 21,
   "metadata": {
    "collapsed": false
   },
   "outputs": [
    {
     "data": {
      "text/html": [
       "<div>\n",
       "<style>\n",
       "    .dataframe thead tr:only-child th {\n",
       "        text-align: right;\n",
       "    }\n",
       "\n",
       "    .dataframe thead th {\n",
       "        text-align: left;\n",
       "    }\n",
       "\n",
       "    .dataframe tbody tr th {\n",
       "        vertical-align: top;\n",
       "    }\n",
       "</style>\n",
       "<table border=\"1\" class=\"dataframe\">\n",
       "  <thead>\n",
       "    <tr style=\"text-align: right;\">\n",
       "      <th></th>\n",
       "      <th>count</th>\n",
       "      <th>mean</th>\n",
       "      <th>std</th>\n",
       "      <th>min</th>\n",
       "      <th>25%</th>\n",
       "      <th>50%</th>\n",
       "      <th>75%</th>\n",
       "      <th>max</th>\n",
       "    </tr>\n",
       "  </thead>\n",
       "  <tbody>\n",
       "    <tr>\n",
       "      <th>x006</th>\n",
       "      <td>70000.0</td>\n",
       "      <td>0.315243</td>\n",
       "      <td>0.464616</td>\n",
       "      <td>0.0</td>\n",
       "      <td>0.0</td>\n",
       "      <td>0.0</td>\n",
       "      <td>1.0</td>\n",
       "      <td>1.0</td>\n",
       "    </tr>\n",
       "    <tr>\n",
       "      <th>x018</th>\n",
       "      <td>70000.0</td>\n",
       "      <td>3.989957</td>\n",
       "      <td>2.362267</td>\n",
       "      <td>0.0</td>\n",
       "      <td>2.0</td>\n",
       "      <td>4.0</td>\n",
       "      <td>6.0</td>\n",
       "      <td>16.0</td>\n",
       "    </tr>\n",
       "    <tr>\n",
       "      <th>x019</th>\n",
       "      <td>70000.0</td>\n",
       "      <td>2.148000</td>\n",
       "      <td>1.747618</td>\n",
       "      <td>0.0</td>\n",
       "      <td>1.0</td>\n",
       "      <td>2.0</td>\n",
       "      <td>3.0</td>\n",
       "      <td>11.0</td>\n",
       "    </tr>\n",
       "    <tr>\n",
       "      <th>x022</th>\n",
       "      <td>70000.0</td>\n",
       "      <td>1.732243</td>\n",
       "      <td>1.119972</td>\n",
       "      <td>0.0</td>\n",
       "      <td>1.0</td>\n",
       "      <td>2.0</td>\n",
       "      <td>3.0</td>\n",
       "      <td>6.0</td>\n",
       "    </tr>\n",
       "    <tr>\n",
       "      <th>x023</th>\n",
       "      <td>70000.0</td>\n",
       "      <td>1.087357</td>\n",
       "      <td>1.012379</td>\n",
       "      <td>0.0</td>\n",
       "      <td>0.0</td>\n",
       "      <td>1.0</td>\n",
       "      <td>2.0</td>\n",
       "      <td>5.0</td>\n",
       "    </tr>\n",
       "    <tr>\n",
       "      <th>x025</th>\n",
       "      <td>70000.0</td>\n",
       "      <td>0.318500</td>\n",
       "      <td>0.465898</td>\n",
       "      <td>0.0</td>\n",
       "      <td>0.0</td>\n",
       "      <td>0.0</td>\n",
       "      <td>1.0</td>\n",
       "      <td>1.0</td>\n",
       "    </tr>\n",
       "    <tr>\n",
       "      <th>x026</th>\n",
       "      <td>70000.0</td>\n",
       "      <td>0.570500</td>\n",
       "      <td>0.495008</td>\n",
       "      <td>0.0</td>\n",
       "      <td>0.0</td>\n",
       "      <td>1.0</td>\n",
       "      <td>1.0</td>\n",
       "      <td>1.0</td>\n",
       "    </tr>\n",
       "    <tr>\n",
       "      <th>x027</th>\n",
       "      <td>70000.0</td>\n",
       "      <td>0.751729</td>\n",
       "      <td>0.432013</td>\n",
       "      <td>0.0</td>\n",
       "      <td>1.0</td>\n",
       "      <td>1.0</td>\n",
       "      <td>1.0</td>\n",
       "      <td>1.0</td>\n",
       "    </tr>\n",
       "    <tr>\n",
       "      <th>x032</th>\n",
       "      <td>70000.0</td>\n",
       "      <td>0.266786</td>\n",
       "      <td>0.865692</td>\n",
       "      <td>0.0</td>\n",
       "      <td>0.0</td>\n",
       "      <td>0.0</td>\n",
       "      <td>0.0</td>\n",
       "      <td>23.0</td>\n",
       "    </tr>\n",
       "    <tr>\n",
       "      <th>x037</th>\n",
       "      <td>70000.0</td>\n",
       "      <td>0.161014</td>\n",
       "      <td>0.406701</td>\n",
       "      <td>0.0</td>\n",
       "      <td>0.0</td>\n",
       "      <td>0.0</td>\n",
       "      <td>0.0</td>\n",
       "      <td>4.0</td>\n",
       "    </tr>\n",
       "    <tr>\n",
       "      <th>x038</th>\n",
       "      <td>70000.0</td>\n",
       "      <td>0.496100</td>\n",
       "      <td>0.817344</td>\n",
       "      <td>0.0</td>\n",
       "      <td>0.0</td>\n",
       "      <td>0.0</td>\n",
       "      <td>1.0</td>\n",
       "      <td>10.0</td>\n",
       "    </tr>\n",
       "    <tr>\n",
       "      <th>x039</th>\n",
       "      <td>70000.0</td>\n",
       "      <td>1.018171</td>\n",
       "      <td>1.354657</td>\n",
       "      <td>0.0</td>\n",
       "      <td>0.0</td>\n",
       "      <td>1.0</td>\n",
       "      <td>2.0</td>\n",
       "      <td>16.0</td>\n",
       "    </tr>\n",
       "    <tr>\n",
       "      <th>x046</th>\n",
       "      <td>70000.0</td>\n",
       "      <td>0.467586</td>\n",
       "      <td>1.025960</td>\n",
       "      <td>0.0</td>\n",
       "      <td>0.0</td>\n",
       "      <td>0.0</td>\n",
       "      <td>1.0</td>\n",
       "      <td>25.0</td>\n",
       "    </tr>\n",
       "    <tr>\n",
       "      <th>x047</th>\n",
       "      <td>70000.0</td>\n",
       "      <td>0.199500</td>\n",
       "      <td>0.527762</td>\n",
       "      <td>0.0</td>\n",
       "      <td>0.0</td>\n",
       "      <td>0.0</td>\n",
       "      <td>0.0</td>\n",
       "      <td>10.0</td>\n",
       "    </tr>\n",
       "    <tr>\n",
       "      <th>x048</th>\n",
       "      <td>70000.0</td>\n",
       "      <td>0.149286</td>\n",
       "      <td>0.449574</td>\n",
       "      <td>0.0</td>\n",
       "      <td>0.0</td>\n",
       "      <td>0.0</td>\n",
       "      <td>0.0</td>\n",
       "      <td>9.0</td>\n",
       "    </tr>\n",
       "    <tr>\n",
       "      <th>x049</th>\n",
       "      <td>70000.0</td>\n",
       "      <td>0.123586</td>\n",
       "      <td>0.404193</td>\n",
       "      <td>0.0</td>\n",
       "      <td>0.0</td>\n",
       "      <td>0.0</td>\n",
       "      <td>0.0</td>\n",
       "      <td>9.0</td>\n",
       "    </tr>\n",
       "    <tr>\n",
       "      <th>x050</th>\n",
       "      <td>70000.0</td>\n",
       "      <td>0.112943</td>\n",
       "      <td>0.380399</td>\n",
       "      <td>0.0</td>\n",
       "      <td>0.0</td>\n",
       "      <td>0.0</td>\n",
       "      <td>0.0</td>\n",
       "      <td>6.0</td>\n",
       "    </tr>\n",
       "    <tr>\n",
       "      <th>x051</th>\n",
       "      <td>70000.0</td>\n",
       "      <td>0.111043</td>\n",
       "      <td>0.386264</td>\n",
       "      <td>0.0</td>\n",
       "      <td>0.0</td>\n",
       "      <td>0.0</td>\n",
       "      <td>0.0</td>\n",
       "      <td>7.0</td>\n",
       "    </tr>\n",
       "    <tr>\n",
       "      <th>x052</th>\n",
       "      <td>70000.0</td>\n",
       "      <td>0.116100</td>\n",
       "      <td>0.397305</td>\n",
       "      <td>0.0</td>\n",
       "      <td>0.0</td>\n",
       "      <td>0.0</td>\n",
       "      <td>0.0</td>\n",
       "      <td>7.0</td>\n",
       "    </tr>\n",
       "    <tr>\n",
       "      <th>x053</th>\n",
       "      <td>70000.0</td>\n",
       "      <td>0.130529</td>\n",
       "      <td>0.435768</td>\n",
       "      <td>0.0</td>\n",
       "      <td>0.0</td>\n",
       "      <td>0.0</td>\n",
       "      <td>0.0</td>\n",
       "      <td>8.0</td>\n",
       "    </tr>\n",
       "    <tr>\n",
       "      <th>x054</th>\n",
       "      <td>70000.0</td>\n",
       "      <td>0.171843</td>\n",
       "      <td>0.531899</td>\n",
       "      <td>0.0</td>\n",
       "      <td>0.0</td>\n",
       "      <td>0.0</td>\n",
       "      <td>0.0</td>\n",
       "      <td>10.0</td>\n",
       "    </tr>\n",
       "    <tr>\n",
       "      <th>x055</th>\n",
       "      <td>70000.0</td>\n",
       "      <td>0.339871</td>\n",
       "      <td>0.931634</td>\n",
       "      <td>0.0</td>\n",
       "      <td>0.0</td>\n",
       "      <td>0.0</td>\n",
       "      <td>0.0</td>\n",
       "      <td>17.0</td>\n",
       "    </tr>\n",
       "    <tr>\n",
       "      <th>x056</th>\n",
       "      <td>70000.0</td>\n",
       "      <td>0.524771</td>\n",
       "      <td>1.292642</td>\n",
       "      <td>0.0</td>\n",
       "      <td>0.0</td>\n",
       "      <td>0.0</td>\n",
       "      <td>1.0</td>\n",
       "      <td>33.0</td>\n",
       "    </tr>\n",
       "    <tr>\n",
       "      <th>x060</th>\n",
       "      <td>70000.0</td>\n",
       "      <td>0.000057</td>\n",
       "      <td>0.007559</td>\n",
       "      <td>0.0</td>\n",
       "      <td>0.0</td>\n",
       "      <td>0.0</td>\n",
       "      <td>0.0</td>\n",
       "      <td>1.0</td>\n",
       "    </tr>\n",
       "    <tr>\n",
       "      <th>x061</th>\n",
       "      <td>70000.0</td>\n",
       "      <td>0.079200</td>\n",
       "      <td>0.372387</td>\n",
       "      <td>0.0</td>\n",
       "      <td>0.0</td>\n",
       "      <td>0.0</td>\n",
       "      <td>0.0</td>\n",
       "      <td>22.0</td>\n",
       "    </tr>\n",
       "    <tr>\n",
       "      <th>x067</th>\n",
       "      <td>70000.0</td>\n",
       "      <td>0.000000</td>\n",
       "      <td>0.000000</td>\n",
       "      <td>0.0</td>\n",
       "      <td>0.0</td>\n",
       "      <td>0.0</td>\n",
       "      <td>0.0</td>\n",
       "      <td>0.0</td>\n",
       "    </tr>\n",
       "    <tr>\n",
       "      <th>x068</th>\n",
       "      <td>70000.0</td>\n",
       "      <td>0.009186</td>\n",
       "      <td>0.112447</td>\n",
       "      <td>0.0</td>\n",
       "      <td>0.0</td>\n",
       "      <td>0.0</td>\n",
       "      <td>0.0</td>\n",
       "      <td>5.0</td>\n",
       "    </tr>\n",
       "    <tr>\n",
       "      <th>x069</th>\n",
       "      <td>70000.0</td>\n",
       "      <td>0.039500</td>\n",
       "      <td>0.273283</td>\n",
       "      <td>0.0</td>\n",
       "      <td>0.0</td>\n",
       "      <td>0.0</td>\n",
       "      <td>0.0</td>\n",
       "      <td>15.0</td>\n",
       "    </tr>\n",
       "    <tr>\n",
       "      <th>x070</th>\n",
       "      <td>70000.0</td>\n",
       "      <td>0.081971</td>\n",
       "      <td>0.432729</td>\n",
       "      <td>0.0</td>\n",
       "      <td>0.0</td>\n",
       "      <td>0.0</td>\n",
       "      <td>0.0</td>\n",
       "      <td>20.0</td>\n",
       "    </tr>\n",
       "    <tr>\n",
       "      <th>x077</th>\n",
       "      <td>70000.0</td>\n",
       "      <td>0.003514</td>\n",
       "      <td>0.060135</td>\n",
       "      <td>0.0</td>\n",
       "      <td>0.0</td>\n",
       "      <td>0.0</td>\n",
       "      <td>0.0</td>\n",
       "      <td>3.0</td>\n",
       "    </tr>\n",
       "    <tr>\n",
       "      <th>...</th>\n",
       "      <td>...</td>\n",
       "      <td>...</td>\n",
       "      <td>...</td>\n",
       "      <td>...</td>\n",
       "      <td>...</td>\n",
       "      <td>...</td>\n",
       "      <td>...</td>\n",
       "      <td>...</td>\n",
       "    </tr>\n",
       "    <tr>\n",
       "      <th>x226</th>\n",
       "      <td>70000.0</td>\n",
       "      <td>0.992257</td>\n",
       "      <td>1.728388</td>\n",
       "      <td>0.0</td>\n",
       "      <td>0.0</td>\n",
       "      <td>0.0</td>\n",
       "      <td>1.0</td>\n",
       "      <td>22.0</td>\n",
       "    </tr>\n",
       "    <tr>\n",
       "      <th>x227</th>\n",
       "      <td>70000.0</td>\n",
       "      <td>0.752571</td>\n",
       "      <td>1.418100</td>\n",
       "      <td>0.0</td>\n",
       "      <td>0.0</td>\n",
       "      <td>0.0</td>\n",
       "      <td>1.0</td>\n",
       "      <td>20.0</td>\n",
       "    </tr>\n",
       "    <tr>\n",
       "      <th>x228</th>\n",
       "      <td>70000.0</td>\n",
       "      <td>0.413414</td>\n",
       "      <td>0.941671</td>\n",
       "      <td>0.0</td>\n",
       "      <td>0.0</td>\n",
       "      <td>0.0</td>\n",
       "      <td>0.0</td>\n",
       "      <td>12.0</td>\n",
       "    </tr>\n",
       "    <tr>\n",
       "      <th>x229</th>\n",
       "      <td>70000.0</td>\n",
       "      <td>0.247314</td>\n",
       "      <td>0.675943</td>\n",
       "      <td>0.0</td>\n",
       "      <td>0.0</td>\n",
       "      <td>0.0</td>\n",
       "      <td>0.0</td>\n",
       "      <td>10.0</td>\n",
       "    </tr>\n",
       "    <tr>\n",
       "      <th>x230</th>\n",
       "      <td>70000.0</td>\n",
       "      <td>0.193857</td>\n",
       "      <td>0.643404</td>\n",
       "      <td>0.0</td>\n",
       "      <td>0.0</td>\n",
       "      <td>0.0</td>\n",
       "      <td>0.0</td>\n",
       "      <td>26.0</td>\n",
       "    </tr>\n",
       "    <tr>\n",
       "      <th>x241</th>\n",
       "      <td>70000.0</td>\n",
       "      <td>0.113857</td>\n",
       "      <td>0.560954</td>\n",
       "      <td>0.0</td>\n",
       "      <td>0.0</td>\n",
       "      <td>0.0</td>\n",
       "      <td>0.0</td>\n",
       "      <td>29.0</td>\n",
       "    </tr>\n",
       "    <tr>\n",
       "      <th>x244</th>\n",
       "      <td>70000.0</td>\n",
       "      <td>0.633457</td>\n",
       "      <td>0.481864</td>\n",
       "      <td>0.0</td>\n",
       "      <td>0.0</td>\n",
       "      <td>1.0</td>\n",
       "      <td>1.0</td>\n",
       "      <td>1.0</td>\n",
       "    </tr>\n",
       "    <tr>\n",
       "      <th>x245</th>\n",
       "      <td>70000.0</td>\n",
       "      <td>0.730229</td>\n",
       "      <td>0.443844</td>\n",
       "      <td>0.0</td>\n",
       "      <td>0.0</td>\n",
       "      <td>1.0</td>\n",
       "      <td>1.0</td>\n",
       "      <td>1.0</td>\n",
       "    </tr>\n",
       "    <tr>\n",
       "      <th>x246</th>\n",
       "      <td>70000.0</td>\n",
       "      <td>0.738114</td>\n",
       "      <td>0.439664</td>\n",
       "      <td>0.0</td>\n",
       "      <td>0.0</td>\n",
       "      <td>1.0</td>\n",
       "      <td>1.0</td>\n",
       "      <td>1.0</td>\n",
       "    </tr>\n",
       "    <tr>\n",
       "      <th>x247</th>\n",
       "      <td>70000.0</td>\n",
       "      <td>0.751129</td>\n",
       "      <td>0.432362</td>\n",
       "      <td>0.0</td>\n",
       "      <td>1.0</td>\n",
       "      <td>1.0</td>\n",
       "      <td>1.0</td>\n",
       "      <td>1.0</td>\n",
       "    </tr>\n",
       "    <tr>\n",
       "      <th>x248</th>\n",
       "      <td>70000.0</td>\n",
       "      <td>0.206286</td>\n",
       "      <td>0.404641</td>\n",
       "      <td>0.0</td>\n",
       "      <td>0.0</td>\n",
       "      <td>0.0</td>\n",
       "      <td>0.0</td>\n",
       "      <td>1.0</td>\n",
       "    </tr>\n",
       "    <tr>\n",
       "      <th>x249</th>\n",
       "      <td>70000.0</td>\n",
       "      <td>0.341271</td>\n",
       "      <td>0.474140</td>\n",
       "      <td>0.0</td>\n",
       "      <td>0.0</td>\n",
       "      <td>0.0</td>\n",
       "      <td>1.0</td>\n",
       "      <td>1.0</td>\n",
       "    </tr>\n",
       "    <tr>\n",
       "      <th>x251</th>\n",
       "      <td>70000.0</td>\n",
       "      <td>0.302843</td>\n",
       "      <td>0.643866</td>\n",
       "      <td>0.0</td>\n",
       "      <td>0.0</td>\n",
       "      <td>0.0</td>\n",
       "      <td>0.0</td>\n",
       "      <td>15.0</td>\n",
       "    </tr>\n",
       "    <tr>\n",
       "      <th>x252</th>\n",
       "      <td>70000.0</td>\n",
       "      <td>0.017229</td>\n",
       "      <td>0.136761</td>\n",
       "      <td>0.0</td>\n",
       "      <td>0.0</td>\n",
       "      <td>0.0</td>\n",
       "      <td>0.0</td>\n",
       "      <td>3.0</td>\n",
       "    </tr>\n",
       "    <tr>\n",
       "      <th>x254</th>\n",
       "      <td>70000.0</td>\n",
       "      <td>0.134714</td>\n",
       "      <td>0.503274</td>\n",
       "      <td>0.0</td>\n",
       "      <td>0.0</td>\n",
       "      <td>0.0</td>\n",
       "      <td>0.0</td>\n",
       "      <td>21.0</td>\n",
       "    </tr>\n",
       "    <tr>\n",
       "      <th>x260</th>\n",
       "      <td>70000.0</td>\n",
       "      <td>0.236200</td>\n",
       "      <td>0.424749</td>\n",
       "      <td>0.0</td>\n",
       "      <td>0.0</td>\n",
       "      <td>0.0</td>\n",
       "      <td>0.0</td>\n",
       "      <td>1.0</td>\n",
       "    </tr>\n",
       "    <tr>\n",
       "      <th>x261</th>\n",
       "      <td>70000.0</td>\n",
       "      <td>0.242443</td>\n",
       "      <td>0.428564</td>\n",
       "      <td>0.0</td>\n",
       "      <td>0.0</td>\n",
       "      <td>0.0</td>\n",
       "      <td>0.0</td>\n",
       "      <td>1.0</td>\n",
       "    </tr>\n",
       "    <tr>\n",
       "      <th>x262</th>\n",
       "      <td>70000.0</td>\n",
       "      <td>0.250557</td>\n",
       "      <td>0.433337</td>\n",
       "      <td>0.0</td>\n",
       "      <td>0.0</td>\n",
       "      <td>0.0</td>\n",
       "      <td>1.0</td>\n",
       "      <td>1.0</td>\n",
       "    </tr>\n",
       "    <tr>\n",
       "      <th>x263</th>\n",
       "      <td>70000.0</td>\n",
       "      <td>0.335214</td>\n",
       "      <td>0.472069</td>\n",
       "      <td>0.0</td>\n",
       "      <td>0.0</td>\n",
       "      <td>0.0</td>\n",
       "      <td>1.0</td>\n",
       "      <td>1.0</td>\n",
       "    </tr>\n",
       "    <tr>\n",
       "      <th>x269</th>\n",
       "      <td>70000.0</td>\n",
       "      <td>0.372471</td>\n",
       "      <td>0.483466</td>\n",
       "      <td>0.0</td>\n",
       "      <td>0.0</td>\n",
       "      <td>0.0</td>\n",
       "      <td>1.0</td>\n",
       "      <td>1.0</td>\n",
       "    </tr>\n",
       "    <tr>\n",
       "      <th>x270</th>\n",
       "      <td>70000.0</td>\n",
       "      <td>0.384057</td>\n",
       "      <td>0.486375</td>\n",
       "      <td>0.0</td>\n",
       "      <td>0.0</td>\n",
       "      <td>0.0</td>\n",
       "      <td>1.0</td>\n",
       "      <td>1.0</td>\n",
       "    </tr>\n",
       "    <tr>\n",
       "      <th>x271</th>\n",
       "      <td>70000.0</td>\n",
       "      <td>0.403629</td>\n",
       "      <td>0.490628</td>\n",
       "      <td>0.0</td>\n",
       "      <td>0.0</td>\n",
       "      <td>0.0</td>\n",
       "      <td>1.0</td>\n",
       "      <td>1.0</td>\n",
       "    </tr>\n",
       "    <tr>\n",
       "      <th>x282</th>\n",
       "      <td>70000.0</td>\n",
       "      <td>0.866386</td>\n",
       "      <td>0.340240</td>\n",
       "      <td>0.0</td>\n",
       "      <td>1.0</td>\n",
       "      <td>1.0</td>\n",
       "      <td>1.0</td>\n",
       "      <td>1.0</td>\n",
       "    </tr>\n",
       "    <tr>\n",
       "      <th>x283</th>\n",
       "      <td>70000.0</td>\n",
       "      <td>0.874229</td>\n",
       "      <td>0.331594</td>\n",
       "      <td>0.0</td>\n",
       "      <td>1.0</td>\n",
       "      <td>1.0</td>\n",
       "      <td>1.0</td>\n",
       "      <td>1.0</td>\n",
       "    </tr>\n",
       "    <tr>\n",
       "      <th>x284</th>\n",
       "      <td>70000.0</td>\n",
       "      <td>0.884629</td>\n",
       "      <td>0.319472</td>\n",
       "      <td>0.0</td>\n",
       "      <td>1.0</td>\n",
       "      <td>1.0</td>\n",
       "      <td>1.0</td>\n",
       "      <td>1.0</td>\n",
       "    </tr>\n",
       "    <tr>\n",
       "      <th>x287</th>\n",
       "      <td>70000.0</td>\n",
       "      <td>2.684371</td>\n",
       "      <td>2.852219</td>\n",
       "      <td>1.0</td>\n",
       "      <td>1.0</td>\n",
       "      <td>1.0</td>\n",
       "      <td>4.0</td>\n",
       "      <td>9.0</td>\n",
       "    </tr>\n",
       "    <tr>\n",
       "      <th>x298</th>\n",
       "      <td>70000.0</td>\n",
       "      <td>0.542771</td>\n",
       "      <td>0.498171</td>\n",
       "      <td>0.0</td>\n",
       "      <td>0.0</td>\n",
       "      <td>1.0</td>\n",
       "      <td>1.0</td>\n",
       "      <td>1.0</td>\n",
       "    </tr>\n",
       "    <tr>\n",
       "      <th>x299</th>\n",
       "      <td>70000.0</td>\n",
       "      <td>0.557400</td>\n",
       "      <td>0.496698</td>\n",
       "      <td>0.0</td>\n",
       "      <td>0.0</td>\n",
       "      <td>1.0</td>\n",
       "      <td>1.0</td>\n",
       "      <td>1.0</td>\n",
       "    </tr>\n",
       "    <tr>\n",
       "      <th>x300</th>\n",
       "      <td>70000.0</td>\n",
       "      <td>0.581414</td>\n",
       "      <td>0.493331</td>\n",
       "      <td>0.0</td>\n",
       "      <td>0.0</td>\n",
       "      <td>1.0</td>\n",
       "      <td>1.0</td>\n",
       "      <td>1.0</td>\n",
       "    </tr>\n",
       "    <tr>\n",
       "      <th>x301</th>\n",
       "      <td>70000.0</td>\n",
       "      <td>0.105600</td>\n",
       "      <td>0.307327</td>\n",
       "      <td>0.0</td>\n",
       "      <td>0.0</td>\n",
       "      <td>0.0</td>\n",
       "      <td>0.0</td>\n",
       "      <td>1.0</td>\n",
       "    </tr>\n",
       "  </tbody>\n",
       "</table>\n",
       "<p>116 rows × 8 columns</p>\n",
       "</div>"
      ],
      "text/plain": [
       "        count      mean       std  min  25%  50%  75%   max\n",
       "x006  70000.0  0.315243  0.464616  0.0  0.0  0.0  1.0   1.0\n",
       "x018  70000.0  3.989957  2.362267  0.0  2.0  4.0  6.0  16.0\n",
       "x019  70000.0  2.148000  1.747618  0.0  1.0  2.0  3.0  11.0\n",
       "x022  70000.0  1.732243  1.119972  0.0  1.0  2.0  3.0   6.0\n",
       "x023  70000.0  1.087357  1.012379  0.0  0.0  1.0  2.0   5.0\n",
       "x025  70000.0  0.318500  0.465898  0.0  0.0  0.0  1.0   1.0\n",
       "x026  70000.0  0.570500  0.495008  0.0  0.0  1.0  1.0   1.0\n",
       "x027  70000.0  0.751729  0.432013  0.0  1.0  1.0  1.0   1.0\n",
       "x032  70000.0  0.266786  0.865692  0.0  0.0  0.0  0.0  23.0\n",
       "x037  70000.0  0.161014  0.406701  0.0  0.0  0.0  0.0   4.0\n",
       "x038  70000.0  0.496100  0.817344  0.0  0.0  0.0  1.0  10.0\n",
       "x039  70000.0  1.018171  1.354657  0.0  0.0  1.0  2.0  16.0\n",
       "x046  70000.0  0.467586  1.025960  0.0  0.0  0.0  1.0  25.0\n",
       "x047  70000.0  0.199500  0.527762  0.0  0.0  0.0  0.0  10.0\n",
       "x048  70000.0  0.149286  0.449574  0.0  0.0  0.0  0.0   9.0\n",
       "x049  70000.0  0.123586  0.404193  0.0  0.0  0.0  0.0   9.0\n",
       "x050  70000.0  0.112943  0.380399  0.0  0.0  0.0  0.0   6.0\n",
       "x051  70000.0  0.111043  0.386264  0.0  0.0  0.0  0.0   7.0\n",
       "x052  70000.0  0.116100  0.397305  0.0  0.0  0.0  0.0   7.0\n",
       "x053  70000.0  0.130529  0.435768  0.0  0.0  0.0  0.0   8.0\n",
       "x054  70000.0  0.171843  0.531899  0.0  0.0  0.0  0.0  10.0\n",
       "x055  70000.0  0.339871  0.931634  0.0  0.0  0.0  0.0  17.0\n",
       "x056  70000.0  0.524771  1.292642  0.0  0.0  0.0  1.0  33.0\n",
       "x060  70000.0  0.000057  0.007559  0.0  0.0  0.0  0.0   1.0\n",
       "x061  70000.0  0.079200  0.372387  0.0  0.0  0.0  0.0  22.0\n",
       "x067  70000.0  0.000000  0.000000  0.0  0.0  0.0  0.0   0.0\n",
       "x068  70000.0  0.009186  0.112447  0.0  0.0  0.0  0.0   5.0\n",
       "x069  70000.0  0.039500  0.273283  0.0  0.0  0.0  0.0  15.0\n",
       "x070  70000.0  0.081971  0.432729  0.0  0.0  0.0  0.0  20.0\n",
       "x077  70000.0  0.003514  0.060135  0.0  0.0  0.0  0.0   3.0\n",
       "...       ...       ...       ...  ...  ...  ...  ...   ...\n",
       "x226  70000.0  0.992257  1.728388  0.0  0.0  0.0  1.0  22.0\n",
       "x227  70000.0  0.752571  1.418100  0.0  0.0  0.0  1.0  20.0\n",
       "x228  70000.0  0.413414  0.941671  0.0  0.0  0.0  0.0  12.0\n",
       "x229  70000.0  0.247314  0.675943  0.0  0.0  0.0  0.0  10.0\n",
       "x230  70000.0  0.193857  0.643404  0.0  0.0  0.0  0.0  26.0\n",
       "x241  70000.0  0.113857  0.560954  0.0  0.0  0.0  0.0  29.0\n",
       "x244  70000.0  0.633457  0.481864  0.0  0.0  1.0  1.0   1.0\n",
       "x245  70000.0  0.730229  0.443844  0.0  0.0  1.0  1.0   1.0\n",
       "x246  70000.0  0.738114  0.439664  0.0  0.0  1.0  1.0   1.0\n",
       "x247  70000.0  0.751129  0.432362  0.0  1.0  1.0  1.0   1.0\n",
       "x248  70000.0  0.206286  0.404641  0.0  0.0  0.0  0.0   1.0\n",
       "x249  70000.0  0.341271  0.474140  0.0  0.0  0.0  1.0   1.0\n",
       "x251  70000.0  0.302843  0.643866  0.0  0.0  0.0  0.0  15.0\n",
       "x252  70000.0  0.017229  0.136761  0.0  0.0  0.0  0.0   3.0\n",
       "x254  70000.0  0.134714  0.503274  0.0  0.0  0.0  0.0  21.0\n",
       "x260  70000.0  0.236200  0.424749  0.0  0.0  0.0  0.0   1.0\n",
       "x261  70000.0  0.242443  0.428564  0.0  0.0  0.0  0.0   1.0\n",
       "x262  70000.0  0.250557  0.433337  0.0  0.0  0.0  1.0   1.0\n",
       "x263  70000.0  0.335214  0.472069  0.0  0.0  0.0  1.0   1.0\n",
       "x269  70000.0  0.372471  0.483466  0.0  0.0  0.0  1.0   1.0\n",
       "x270  70000.0  0.384057  0.486375  0.0  0.0  0.0  1.0   1.0\n",
       "x271  70000.0  0.403629  0.490628  0.0  0.0  0.0  1.0   1.0\n",
       "x282  70000.0  0.866386  0.340240  0.0  1.0  1.0  1.0   1.0\n",
       "x283  70000.0  0.874229  0.331594  0.0  1.0  1.0  1.0   1.0\n",
       "x284  70000.0  0.884629  0.319472  0.0  1.0  1.0  1.0   1.0\n",
       "x287  70000.0  2.684371  2.852219  1.0  1.0  1.0  4.0   9.0\n",
       "x298  70000.0  0.542771  0.498171  0.0  0.0  1.0  1.0   1.0\n",
       "x299  70000.0  0.557400  0.496698  0.0  0.0  1.0  1.0   1.0\n",
       "x300  70000.0  0.581414  0.493331  0.0  0.0  1.0  1.0   1.0\n",
       "x301  70000.0  0.105600  0.307327  0.0  0.0  0.0  0.0   1.0\n",
       "\n",
       "[116 rows x 8 columns]"
      ]
     },
     "execution_count": 21,
     "metadata": {},
     "output_type": "execute_result"
    }
   ],
   "source": [
    "data_temp = data_df[categorical_variables]\n",
    "data_temp.describe().T"
   ]
  },
  {
   "cell_type": "code",
   "execution_count": 22,
   "metadata": {
    "collapsed": false
   },
   "outputs": [
    {
     "name": "stdout",
     "output_type": "stream",
     "text": [
      "Unique value count in x006: 2\n",
      "\n",
      "Unique value count in x018: 17\n",
      "\n",
      "Unique value count in x019: 12\n",
      "\n",
      "Unique value count in x022: 7\n",
      "\n",
      "Unique value count in x023: 6\n",
      "\n",
      "Unique value count in x025: 2\n",
      "\n",
      "Unique value count in x026: 2\n",
      "\n",
      "Unique value count in x027: 2\n",
      "\n",
      "Unique value count in x032: 22\n",
      "\n",
      "Unique value count in x037: 5\n",
      "\n",
      "Unique value count in x038: 11\n",
      "\n",
      "Unique value count in x039: 17\n",
      "\n",
      "Unique value count in x046: 19\n",
      "\n",
      "Unique value count in x047: 11\n",
      "\n",
      "Unique value count in x048: 10\n",
      "\n",
      "Unique value count in x049: 9\n",
      "\n",
      "Unique value count in x050: 7\n",
      "\n",
      "Unique value count in x051: 8\n",
      "\n",
      "Unique value count in x052: 8\n",
      "\n",
      "Unique value count in x053: 9\n",
      "\n",
      "Unique value count in x054: 11\n",
      "\n",
      "Unique value count in x055: 17\n",
      "\n",
      "Unique value count in x056: 23\n",
      "\n",
      "Unique value count in x060: 2\n",
      "\n",
      "Unique value count in x061: 15\n",
      "\n",
      "Unique value count in x067: 1\n",
      "\n",
      "Unique value count in x068: 6\n",
      "\n",
      "Unique value count in x069: 14\n",
      "\n",
      "Unique value count in x070: 19\n",
      "\n",
      "Unique value count in x077: 4\n",
      "\n",
      "Unique value count in x078: 5\n",
      "\n",
      "Unique value count in x079: 8\n",
      "\n",
      "Unique value count in x080: 16\n",
      "\n",
      "Unique value count in x081: 22\n",
      "\n",
      "Unique value count in x082: 2\n",
      "\n",
      "Unique value count in x083: 2\n",
      "\n",
      "Unique value count in x084: 2\n",
      "\n",
      "Unique value count in x085: 2\n",
      "\n",
      "Unique value count in x086: 2\n",
      "\n",
      "Unique value count in x087: 2\n",
      "\n",
      "Unique value count in x088: 2\n",
      "\n",
      "Unique value count in x089: 2\n",
      "\n",
      "Unique value count in x090: 2\n",
      "\n",
      "Unique value count in x091: 2\n",
      "\n",
      "Unique value count in x092: 2\n",
      "\n",
      "Unique value count in x093: 2\n",
      "\n",
      "Unique value count in x094: 1\n",
      "\n",
      "Unique value count in x095: 1\n",
      "\n",
      "Unique value count in x096: 1\n",
      "\n",
      "Unique value count in x097: 18\n",
      "\n",
      "Unique value count in x100: 12\n",
      "\n",
      "Unique value count in x101: 12\n",
      "\n",
      "Unique value count in x102: 17\n",
      "\n",
      "Unique value count in x103: 24\n",
      "\n",
      "Unique value count in x107: 9\n",
      "\n",
      "Unique value count in x108: 14\n",
      "\n",
      "Unique value count in x109: 21\n",
      "\n",
      "Unique value count in x112: 17\n",
      "\n",
      "Unique value count in x122: 15\n",
      "\n",
      "Unique value count in x123: 17\n",
      "\n",
      "Unique value count in x124: 23\n",
      "\n",
      "Unique value count in x132: 24\n",
      "\n",
      "Unique value count in x147: 2\n",
      "\n",
      "Unique value count in x149: 20\n",
      "\n",
      "Unique value count in x150: 22\n",
      "\n",
      "Unique value count in x154: 2\n",
      "\n",
      "Unique value count in x156: 9\n",
      "\n",
      "Unique value count in x157: 19\n",
      "\n",
      "Unique value count in x161: 2\n",
      "\n",
      "Unique value count in x163: 11\n",
      "\n",
      "Unique value count in x164: 22\n",
      "\n",
      "Unique value count in x169: 17\n",
      "\n",
      "Unique value count in x170: 22\n",
      "\n",
      "Unique value count in x171: 24\n",
      "\n",
      "Unique value count in x172: 24\n",
      "\n",
      "Unique value count in x174: 19\n",
      "\n",
      "Unique value count in x175: 12\n",
      "\n",
      "Unique value count in x176: 14\n",
      "\n",
      "Unique value count in x177: 16\n",
      "\n",
      "Unique value count in x178: 18\n",
      "\n",
      "Unique value count in x179: 18\n",
      "\n",
      "Unique value count in x180: 2\n",
      "\n",
      "Unique value count in x182: 15\n",
      "\n",
      "Unique value count in x183: 18\n",
      "\n",
      "Unique value count in x197: 19\n",
      "\n",
      "Unique value count in x198: 22\n",
      "\n",
      "Unique value count in x226: 23\n",
      "\n",
      "Unique value count in x227: 21\n",
      "\n",
      "Unique value count in x228: 13\n",
      "\n",
      "Unique value count in x229: 11\n",
      "\n",
      "Unique value count in x230: 20\n",
      "\n",
      "Unique value count in x241: 17\n",
      "\n",
      "Unique value count in x244: 2\n",
      "\n",
      "Unique value count in x245: 2\n",
      "\n",
      "Unique value count in x246: 2\n",
      "\n",
      "Unique value count in x247: 2\n",
      "\n",
      "Unique value count in x248: 2\n",
      "\n",
      "Unique value count in x249: 2\n",
      "\n",
      "Unique value count in x251: 12\n",
      "\n",
      "Unique value count in x252: 4\n",
      "\n",
      "Unique value count in x254: 15\n",
      "\n",
      "Unique value count in x260: 2\n",
      "\n",
      "Unique value count in x261: 2\n",
      "\n",
      "Unique value count in x262: 2\n",
      "\n",
      "Unique value count in x263: 2\n",
      "\n",
      "Unique value count in x269: 2\n",
      "\n",
      "Unique value count in x270: 2\n",
      "\n",
      "Unique value count in x271: 2\n",
      "\n",
      "Unique value count in x282: 2\n",
      "\n",
      "Unique value count in x283: 2\n",
      "\n",
      "Unique value count in x284: 2\n",
      "\n",
      "Unique value count in x287: 8\n",
      "\n",
      "Unique value count in x298: 2\n",
      "\n",
      "Unique value count in x299: 2\n",
      "\n",
      "Unique value count in x300: 2\n",
      "\n",
      "Unique value count in x301: 2\n",
      "\n"
     ]
    }
   ],
   "source": [
    "for c in categorical_variables:\n",
    "    print(\"Unique value count in {}: {}\\n\".format(c, len(data_temp[c].unique())))"
   ]
  },
  {
   "cell_type": "code",
   "execution_count": 23,
   "metadata": {
    "collapsed": true
   },
   "outputs": [],
   "source": [
    "# Get numeric columns\n",
    "df2 = df2.drop(categorical_variables, axis=1)"
   ]
  },
  {
   "cell_type": "markdown",
   "metadata": {},
   "source": [
    "### Check correlations between variables"
   ]
  },
  {
   "cell_type": "markdown",
   "metadata": {},
   "source": [
    "#### Drop highly correlated columns"
   ]
  },
  {
   "cell_type": "code",
   "execution_count": 24,
   "metadata": {
    "collapsed": false
   },
   "outputs": [],
   "source": [
    "df = df2.drop(['y'], axis=1)\n",
    "# Create correlation matrix\n",
    "corr_matrix = df.corr().abs()\n",
    "\n",
    "# Select upper triangle of correlation matrix\n",
    "upper = corr_matrix.where(np.triu(np.ones(corr_matrix.shape), k=1).astype(np.bool))\n",
    "\n",
    "# Find index of feature columns with correlation greater than 0.95\n",
    "to_drop = [column for column in upper.columns if any(upper[column] > 0.95)]\n",
    "\n",
    "# Drop features\n",
    "excl_columns.extend(to_drop)\n",
    "df2 = df2.drop(to_drop, axis=1)"
   ]
  },
  {
   "cell_type": "code",
   "execution_count": 25,
   "metadata": {
    "collapsed": false
   },
   "outputs": [
    {
     "data": {
      "text/plain": [
       "54"
      ]
     },
     "execution_count": 25,
     "metadata": {},
     "output_type": "execute_result"
    }
   ],
   "source": [
    "len(to_drop)"
   ]
  },
  {
   "cell_type": "code",
   "execution_count": 26,
   "metadata": {
    "collapsed": false
   },
   "outputs": [],
   "source": [
    "df=pd.DataFrame()"
   ]
  },
  {
   "cell_type": "code",
   "execution_count": 27,
   "metadata": {
    "collapsed": false
   },
   "outputs": [
    {
     "data": {
      "text/plain": [
       "(70000, 104)"
      ]
     },
     "execution_count": 27,
     "metadata": {},
     "output_type": "execute_result"
    }
   ],
   "source": [
    "df2.shape\n",
    "#to_drop"
   ]
  },
  {
   "cell_type": "markdown",
   "metadata": {},
   "source": [
    "### Correlation with target variable"
   ]
  },
  {
   "cell_type": "markdown",
   "metadata": {},
   "source": [
    "https://towardsdatascience.com/feature-selection-with-pandas-e3690ad8504b"
   ]
  },
  {
   "cell_type": "markdown",
   "metadata": {},
   "source": [
    "### 1. Filter Method:"
   ]
  },
  {
   "cell_type": "code",
   "execution_count": 28,
   "metadata": {
    "collapsed": true
   },
   "outputs": [],
   "source": [
    "df2 = data_df.drop(excl_columns, axis=1)"
   ]
  },
  {
   "cell_type": "code",
   "execution_count": 29,
   "metadata": {
    "collapsed": false,
    "scrolled": true
   },
   "outputs": [
    {
     "data": {
      "text/plain": [
       "(70000, 220)"
      ]
     },
     "execution_count": 29,
     "metadata": {},
     "output_type": "execute_result"
    }
   ],
   "source": [
    "df2.shape"
   ]
  },
  {
   "cell_type": "code",
   "execution_count": 30,
   "metadata": {
    "collapsed": false
   },
   "outputs": [
    {
     "name": "stdout",
     "output_type": "stream",
     "text": [
      "x005    0.562672\n",
      "x022    0.567851\n",
      "x046    0.506904\n",
      "x226    0.511537\n",
      "x227    0.535691\n",
      "x228    0.511834\n",
      "x235    0.552274\n",
      "x236    0.573486\n",
      "x244    0.501601\n",
      "x249    0.514935\n",
      "y       1.000000\n",
      "Name: y, dtype: float64\n"
     ]
    }
   ],
   "source": [
    "cor = df2.corr()\n",
    "#Correlation with output variable\n",
    "cor_target = abs(cor[\"y\"])\n",
    "#Selecting highly correlated features\n",
    "filter_relevant_features = cor_target[cor_target>MIN_CORR_THRESHOLD]\n",
    "print(filter_relevant_features)"
   ]
  },
  {
   "cell_type": "code",
   "execution_count": 31,
   "metadata": {
    "collapsed": false
   },
   "outputs": [
    {
     "data": {
      "text/plain": [
       "Index(['x005', 'x022', 'x046', 'x226', 'x227', 'x228', 'x235', 'x236', 'x244',\n",
       "       'x249'],\n",
       "      dtype='object')"
      ]
     },
     "execution_count": 31,
     "metadata": {},
     "output_type": "execute_result"
    }
   ],
   "source": [
    "X = data_df[filter_relevant_features.keys()]\n",
    "X = X.drop(['y'], axis=1)\n",
    "#X = data_df[selected_features_BE + categorical_variables]\n",
    "y = data_df[['y']]\n",
    "X.columns"
   ]
  },
  {
   "cell_type": "markdown",
   "metadata": {},
   "source": [
    "#### Numerical data distribution"
   ]
  },
  {
   "cell_type": "markdown",
   "metadata": {},
   "source": [
    "### Features distributions"
   ]
  },
  {
   "cell_type": "code",
   "execution_count": 35,
   "metadata": {
    "collapsed": false
   },
   "outputs": [
    {
     "data": {
      "image/png": "[encoded data removed]",
      "text/plain": [
       "<Figure size 1152x1440 with 12 Axes>"
      ]
     },
     "metadata": {},
     "output_type": "display_data"
    }
   ],
   "source": [
    "X.hist(figsize=(16, 20), bins=50, xlabelsize=10, ylabelsize=10); # ; avoid having the matplotlib verbose informations"
   ]
  },
  {
   "cell_type": "raw",
   "metadata": {
    "collapsed": false
   },
   "source": [
    "X.apply(lambda x: np.log(x)).describe().T"
   ]
  },
  {
   "cell_type": "raw",
   "metadata": {
    "collapsed": false
   },
   "source": [
    "for c in X.columns:\n",
    "    print(\"Unique value count in {}: {}\\n\".format(c, len(X[c].unique())))"
   ]
  },
  {
   "cell_type": "markdown",
   "metadata": {},
   "source": [
    "### How y is distributed"
   ]
  },
  {
   "cell_type": "code",
   "execution_count": 36,
   "metadata": {
    "collapsed": false
   },
   "outputs": [
    {
     "name": "stdout",
     "output_type": "stream",
     "text": [
      "count    70000.000000\n",
      "mean       619.268771\n",
      "std        118.522811\n",
      "min        300.000000\n",
      "25%        523.000000\n",
      "50%        599.000000\n",
      "75%        720.000000\n",
      "max        839.000000\n",
      "Name: y, dtype: float64\n"
     ]
    },
    {
     "name": "stderr",
     "output_type": "stream",
     "text": [
      "/Users/muralikorrapati/anaconda/lib/python3.6/site-packages/matplotlib/axes/_axes.py:6521: MatplotlibDeprecationWarning: \n",
      "The 'normed' kwarg was deprecated in Matplotlib 2.1 and will be removed in 3.1. Use 'density' instead.\n",
      "  alternative=\"'density'\", removal=\"3.1\")\n"
     ]
    },
    {
     "data": {
      "image/png": "[encoded data removed]",
      "text/plain": [
       "<Figure size 648x576 with 1 Axes>"
      ]
     },
     "metadata": {},
     "output_type": "display_data"
    }
   ],
   "source": [
    "print(data_df['y'].describe())\n",
    "plt.figure(figsize=(9, 8))\n",
    "sns.distplot(data_df['y'], color='g', bins=100, hist_kws={'alpha': 0.4});"
   ]
  },
  {
   "cell_type": "raw",
   "metadata": {
    "collapsed": false
   },
   "source": [
    "plt.figure(figsize=(9, 8))\n",
    "sns.distplot(np.log2(data_df['y']), color='g', bins=100, hist_kws={'alpha': 0.4});"
   ]
  },
  {
   "cell_type": "markdown",
   "metadata": {},
   "source": [
    "### Check feature distributions"
   ]
  },
  {
   "cell_type": "raw",
   "metadata": {
    "collapsed": false
   },
   "source": [
    "n = len(data_df.columns)\n",
    "axs = pd.plotting.scatter_matrix(data_df, figsize=(16,12))\n",
    "for i in range(n):\n",
    "    v = axs[i, 0]\n",
    "    v.yaxis.label.set_rotation(0)\n",
    "    v.yaxis.label.set_ha('right')\n",
    "    v.set_yticks(())\n",
    "    h = axs[n-1, i]\n",
    "    h.xaxis.label.set_rotation(90)\n",
    "    h.set_xticks(())\n",
    "plt.show()"
   ]
  },
  {
   "cell_type": "code",
   "execution_count": 37,
   "metadata": {
    "collapsed": false
   },
   "outputs": [
    {
     "data": {
      "text/plain": [
       "(70000, 306)"
      ]
     },
     "execution_count": 37,
     "metadata": {},
     "output_type": "execute_result"
    }
   ],
   "source": [
    "data_df.shape"
   ]
  },
  {
   "cell_type": "code",
   "execution_count": 32,
   "metadata": {
    "collapsed": false
   },
   "outputs": [],
   "source": [
    "X = data_df[filter_relevant_features.keys()].iloc[:10000,]\n",
    "data = X.drop(['y'], axis=1)\n",
    "target = data_df[['y']].iloc[:10000,]"
   ]
  },
  {
   "cell_type": "code",
   "execution_count": 33,
   "metadata": {
    "collapsed": false
   },
   "outputs": [
    {
     "data": {
      "text/plain": [
       "['x005',\n",
       " 'x022',\n",
       " 'x046',\n",
       " 'x226',\n",
       " 'x227',\n",
       " 'x228',\n",
       " 'x235',\n",
       " 'x236',\n",
       " 'x244',\n",
       " 'x249',\n",
       " 'y']"
      ]
     },
     "execution_count": 33,
     "metadata": {},
     "output_type": "execute_result"
    }
   ],
   "source": [
    "list(filter_relevant_features.keys())"
   ]
  },
  {
   "cell_type": "markdown",
   "metadata": {},
   "source": [
    "### Train/test split"
   ]
  },
  {
   "cell_type": "code",
   "execution_count": 34,
   "metadata": {
    "collapsed": true
   },
   "outputs": [],
   "source": [
    "from sklearn.model_selection import train_test_split\n",
    "\n",
    "# train/test split (gives us test set)\n",
    "X_train, X_test, y_train, y_test = train_test_split(data, \n",
    "                                                  target, \n",
    "                                                  shuffle=True,\n",
    "                                                  test_size=0.3, \n",
    "                                                  random_state=15)\n"
   ]
  },
  {
   "cell_type": "code",
   "execution_count": 35,
   "metadata": {
    "collapsed": false
   },
   "outputs": [
    {
     "data": {
      "text/plain": [
       "<module 'wallethub_estimator' from '/Users/muralikorrapati/WalletHub/Data Scientist Test/wallethub_estimator.py'>"
      ]
     },
     "execution_count": 35,
     "metadata": {},
     "output_type": "execute_result"
    }
   ],
   "source": [
    "import wallethub_estimator as wallet\n",
    "import importlib\n",
    "importlib.reload(wallet)"
   ]
  },
  {
   "cell_type": "markdown",
   "metadata": {},
   "source": [
    "### Define custom loss function"
   ]
  },
  {
   "cell_type": "code",
   "execution_count": 36,
   "metadata": {
    "collapsed": false
   },
   "outputs": [],
   "source": [
    "from sklearn.metrics.scorer import make_scorer\n",
    "\n",
    "my_scorer = make_scorer(wallet.mean_square_error_range_func, greater_is_better=True)\n",
    "my_loss = make_scorer(wallet.mean_square_error_range_func, greater_is_better=False)"
   ]
  },
  {
   "cell_type": "markdown",
   "metadata": {},
   "source": [
    "### GridSearch model selector"
   ]
  },
  {
   "cell_type": "code",
   "execution_count": 121,
   "metadata": {
    "collapsed": false
   },
   "outputs": [],
   "source": [
    "from sklearn.base import BaseEstimator\n",
    "from sklearn.model_selection import GridSearchCV\n",
    "from sklearn.linear_model import Lasso, LinearRegression\n",
    "from sklearn.tree import DecisionTreeRegressor\n",
    "from sklearn.ensemble import RandomForestRegressor\n",
    "from sklearn.ensemble import GradientBoostingRegressor\n",
    "from sklearn.ensemble import ExtraTreesRegressor\n",
    "from sklearn.preprocessing import PolynomialFeatures\n",
    "from sklearn.svm import SVR\n",
    "from sklearn.pipeline import Pipeline, make_pipeline\n",
    "from xgboost import XGBRegressor\n",
    "import statsmodels.api as sm\n",
    "\n",
    "models1 = {\n",
    "    'RandomForestRegressor': RandomForestRegressor(),\n",
    "    #'ExtraTreesRegressor': ExtraTreesRegressor(),\n",
    "    #'GradientBoostingRegressor': GradientBoostingRegressor(),\n",
    "    #'SVR': SVR(),\n",
    "    #'XGB': XGBRegressor(nthread=-1),\n",
    "}\n",
    "\n",
    "params1 = {\n",
    "    'RandomForestRegressor': { 'n_estimators': [100], 'criterion': ['mae'], 'max_depth': [4] },\n",
    "    #'ExtraTreesRegressor': { 'n_estimators': [10, 30, 100], 'criterion': ['mae'], 'max_depth': [4, 6] },\n",
    "    #'GradientBoostingRegressor': { 'learning_rate': [i/10.0 for i in range(4,6)], 'criterion': ['mae'], 'max_depth': [2, 4, 6] },\n",
    "    #'SVR': {'kernel': ['rbf'], \"C\": [1e1, 1e2, 1e3], \"gamma\": np.logspace(-2,-2)},\n",
    "    #'SVR': {'kernel': ['poly'], \"C\": [1e0, 1e1], \"gamma\": [0.6, 0.7]},\n",
    "    #'XGB': {'gamma':[i/10.0 for i in range(3,6)],'max_depth': [2,3,4]},\n",
    "}"
   ]
  },
  {
   "cell_type": "code",
   "execution_count": 122,
   "metadata": {
    "collapsed": false,
    "scrolled": true
   },
   "outputs": [
    {
     "name": "stdout",
     "output_type": "stream",
     "text": [
      "Applying transformers dict_keys(['scaler', 'polynomial'])\n",
      "*****Running GridSearchCV for RandomForestRegressor*****\n",
      "Fitting 3 folds for each of 1 candidates, totalling 3 fits\n",
      "[CV] estimator__criterion=mae, estimator__max_depth=4, estimator__n_estimators=100 \n",
      "[CV] estimator__criterion=mae, estimator__max_depth=4, estimator__n_estimators=100 \n",
      "[CV] estimator__criterion=mae, estimator__max_depth=4, estimator__n_estimators=100 \n",
      "[CV]  estimator__criterion=mae, estimator__max_depth=4, estimator__n_estimators=100, score=0.6632317642763024, total=536.8min\n",
      "[CV]  estimator__criterion=mae, estimator__max_depth=4, estimator__n_estimators=100, score=0.6736016991725751, total=541.4min\n",
      "[CV]  estimator__criterion=mae, estimator__max_depth=4, estimator__n_estimators=100, score=0.6509934583017178, total=545.1min\n"
     ]
    },
    {
     "name": "stderr",
     "output_type": "stream",
     "text": [
      "[Parallel(n_jobs=3)]: Done   3 out of   3 | elapsed: 545.1min remaining:    0.0s\n",
      "[Parallel(n_jobs=3)]: Done   3 out of   3 | elapsed: 545.1min finished\n"
     ]
    },
    {
     "name": "stdout",
     "output_type": "stream",
     "text": [
      "Best: 0.662609 using {'estimator__criterion': 'mae', 'estimator__max_depth': 4, 'estimator__n_estimators': 100}\n",
      "Train: 0.693238 (0.005132) // Test : 0.662609 (0.009240) with: {'estimator__criterion': 'mae', 'estimator__max_depth': 4, 'estimator__n_estimators': 100}\n"
     ]
    }
   ],
   "source": [
    "from sklearn.preprocessing import StandardScaler, MinMaxScaler\n",
    "\n",
    "transformers={\n",
    "    \"scaler\": StandardScaler(),\n",
    "    \"polynomial\":PolynomialFeatures(5)\n",
    "}\n",
    "\n",
    "helper1 = wallet.WalletHubEstimator(models1, params1, transformers=transformers)\n",
    "helper1.fit(X_train, y_train.values.ravel(), verbose=10) #, scoring=my_scorer\n",
    "#helper1.get_score_summary(sort_by='max_score')"
   ]
  },
  {
   "cell_type": "code",
   "execution_count": 123,
   "metadata": {
    "collapsed": false,
    "scrolled": true
   },
   "outputs": [
    {
     "name": "stdout",
     "output_type": "stream",
     "text": [
      "RandomForestRegressor\n"
     ]
    },
    {
     "data": {
      "text/html": [
       "<div>\n",
       "<style>\n",
       "    .dataframe thead tr:only-child th {\n",
       "        text-align: right;\n",
       "    }\n",
       "\n",
       "    .dataframe thead th {\n",
       "        text-align: left;\n",
       "    }\n",
       "\n",
       "    .dataframe tbody tr th {\n",
       "        vertical-align: top;\n",
       "    }\n",
       "</style>\n",
       "<table border=\"1\" class=\"dataframe\">\n",
       "  <thead>\n",
       "    <tr style=\"text-align: right;\">\n",
       "      <th></th>\n",
       "      <th>estimator</th>\n",
       "      <th>min_score</th>\n",
       "      <th>mean_score</th>\n",
       "      <th>max_score</th>\n",
       "      <th>std_score</th>\n",
       "      <th>estimator__criterion</th>\n",
       "      <th>estimator__max_depth</th>\n",
       "      <th>estimator__n_estimators</th>\n",
       "    </tr>\n",
       "  </thead>\n",
       "  <tbody>\n",
       "    <tr>\n",
       "      <th>0</th>\n",
       "      <td>RandomForestRegressor</td>\n",
       "      <td>0.650993</td>\n",
       "      <td>0.662609</td>\n",
       "      <td>0.673602</td>\n",
       "      <td>0.00924028</td>\n",
       "      <td>mae</td>\n",
       "      <td>4</td>\n",
       "      <td>100</td>\n",
       "    </tr>\n",
       "  </tbody>\n",
       "</table>\n",
       "</div>"
      ],
      "text/plain": [
       "               estimator min_score mean_score max_score   std_score  \\\n",
       "0  RandomForestRegressor  0.650993   0.662609  0.673602  0.00924028   \n",
       "\n",
       "  estimator__criterion estimator__max_depth estimator__n_estimators  \n",
       "0                  mae                    4                     100  "
      ]
     },
     "execution_count": 123,
     "metadata": {},
     "output_type": "execute_result"
    }
   ],
   "source": [
    "helper1.get_score_summary(sort_by='mean_score')"
   ]
  },
  {
   "cell_type": "code",
   "execution_count": 124,
   "metadata": {
    "collapsed": false
   },
   "outputs": [],
   "source": [
    "from sklearn.metrics import mean_squared_error, r2_score\n",
    "\n",
    "model_name, model = helper1.best_model()"
   ]
  },
  {
   "cell_type": "code",
   "execution_count": 125,
   "metadata": {
    "collapsed": false
   },
   "outputs": [
    {
     "data": {
      "text/plain": [
       "('RandomForestRegressor',\n",
       " {'estimator__criterion': 'mae',\n",
       "  'estimator__max_depth': 4,\n",
       "  'estimator__n_estimators': 100})"
      ]
     },
     "execution_count": 125,
     "metadata": {},
     "output_type": "execute_result"
    }
   ],
   "source": [
    "model_name, model.best_params_"
   ]
  },
  {
   "cell_type": "code",
   "execution_count": 126,
   "metadata": {
    "collapsed": false
   },
   "outputs": [],
   "source": [
    "helper1.refit_best_model(X_train, y_train.values.ravel())"
   ]
  },
  {
   "cell_type": "code",
   "execution_count": 38,
   "metadata": {
    "collapsed": false
   },
   "outputs": [
    {
     "data": {
      "text/plain": [
       "array([ 668.,  522.,  769.,  704.,  522.,  522.,  586.,  658.,  804.,  787.])"
      ]
     },
     "execution_count": 38,
     "metadata": {},
     "output_type": "execute_result"
    }
   ],
   "source": [
    "y_pred = np.rint(helper1.predict(X_test))\n",
    "y_test = y_test.values.ravel()\n",
    "y_pred[:10]"
   ]
  },
  {
   "cell_type": "code",
   "execution_count": 39,
   "metadata": {
    "collapsed": false
   },
   "outputs": [
    {
     "data": {
      "text/plain": [
       "array([613, 700, 746, 817, 539, 508, 634, 605, 835, 826])"
      ]
     },
     "execution_count": 39,
     "metadata": {},
     "output_type": "execute_result"
    }
   ],
   "source": [
    "y_test[:10]"
   ]
  },
  {
   "cell_type": "code",
   "execution_count": 129,
   "metadata": {
    "collapsed": false,
    "scrolled": true
   },
   "outputs": [
    {
     "name": "stdout",
     "output_type": "stream",
     "text": [
      "RMSE:  3639.10181226\n",
      "Accuracy:  0.69334447485\n"
     ]
    },
    {
     "data": {
      "text/plain": [
       "Text(0, 0.5, 'Predictions')"
      ]
     },
     "execution_count": 129,
     "metadata": {},
     "output_type": "execute_result"
    },
    {
     "data": {
      "image/png": "[encoded data removed]",
      "text/plain": [
       "<Figure size 576x396 with 1 Axes>"
      ]
     },
     "metadata": {},
     "output_type": "display_data"
    }
   ],
   "source": [
    "# model evaluation\n",
    "rmse = np.sqrt(np.sum(np.square(y_pred-y_test)))\n",
    "accuracy = r2_score(y_test, y_pred)\n",
    "\n",
    "#printing values\n",
    "#print(\"Slope: \", model.named_steps['gridsearchcv'].estimator.coef_)\n",
    "#print(\"Intercept: \", model.intercept_)\n",
    "print(\"RMSE: \", rmse)\n",
    "#print(\"R2: \", r2)\n",
    "print(\"Accuracy: \", accuracy)\n",
    "\n",
    "plt.scatter(y_test, y_pred)\n",
    "plt.xlabel(\"True Values\")\n",
    "plt.ylabel(\"Predictions\")"
   ]
  },
  {
   "cell_type": "markdown",
   "metadata": {},
   "source": [
    "### Persist model to disk"
   ]
  },
  {
   "cell_type": "code",
   "execution_count": 130,
   "metadata": {
    "collapsed": false
   },
   "outputs": [
    {
     "data": {
      "text/plain": [
       "['wallethub_predictor.pkl']"
      ]
     },
     "execution_count": 130,
     "metadata": {},
     "output_type": "execute_result"
    }
   ],
   "source": [
    "from sklearn.externals import joblib\n",
    "#file_whp = open('wallethub_predictor.pkl', 'w') \n",
    "#pickle.dump(helper1, file_whp, protocol=None, fix_imports=True)\n",
    "joblib.dump(model.estimator, 'wallethub_predictor.pkl')"
   ]
  },
  {
   "cell_type": "code",
   "execution_count": null,
   "metadata": {
    "collapsed": true
   },
   "outputs": [],
   "source": []
  },
  {
   "cell_type": "raw",
   "metadata": {
    "collapsed": false
   },
   "source": [
    "from sklearn.linear_model import LinearRegression\n",
    "from sklearn.linear_model import LassoCV\n",
    "from sklearn.linear_model import RidgeCV\n",
    "from sklearn.ensemble import AdaBoostRegressor\n",
    "from sklearn.preprocessing import PolynomialFeatures\n",
    "from sklearn.pipeline import Pipeline, make_pipeline\n",
    "from xgboost import XGBRegressor\n",
    "import statsmodels.api as sm\n",
    "\n",
    "\n",
    "N_points = 41 # Number of points for constructing function\n",
    "x_min = 1 # Min of the range of x (feature)\n",
    "x_max = 10 # Max of the range of x (feature)\n",
    "noise_mean = 0 # Mean of the Gaussian noise adder\n",
    "noise_sd = 2 # Std.Dev of the Gaussian noise adder\n",
    "ridge_alpha = tuple([10**(x) for x in range(-3,0,1) ]) # Alpha (regularization strength) of ridge regression\n",
    "lasso_eps = 0.001\n",
    "lasso_nalpha=20\n",
    "lasso_iter=1000\n",
    "degree_min = 2\n",
    "degree_max = 8\n",
    "\n",
    "linear_sample_score = []\n",
    "poly_degree = []\n",
    "for degree in range(degree_min,degree_max+1):\n",
    "    #model = make_pipeline(PolynomialFeatures(degree), RidgeCV(alphas=ridge_alpha,normalize=True,cv=5))\n",
    "    model = make_pipeline(PolynomialFeatures(degree), LassoCV(eps=lasso_eps,n_alphas=lasso_nalpha, \n",
    "                                                                  max_iter=lasso_iter,normalize=True,cv=5))\n",
    "    #model = make_pipeline(PolynomialFeatures(degree), LinearRegression(normalize=True))\n",
    "    model.fit(X_train, y_train)\n",
    "    y_pred = np.array(model.predict(X_train))\n",
    "    test_pred = np.array(model.predict(X_test))\n",
    "    RMSE=np.sqrt(np.sum(np.square(y_pred-y_train.values.ravel())))\n",
    "    test_score = model.score(X_test,y_test.values.ravel())\n",
    "    linear_sample_score.append(test_score)\n",
    "    poly_degree.append(degree)\n",
    "    print(\"Test score of model with degree {}: {}\\n\".format(degree,test_score))\n",
    "    \n",
    "    #plt.figure()\n",
    "    #plt.title(\"RMSE: {}\".format(RMSE),fontsize=10)\n",
    "    #plt.suptitle(\"Polynomial of degree {}\".format(degree),fontsize=15)\n",
    "    #plt.xlabel(\"X training values\")\n",
    "    #plt.ylabel(\"Fitted and training values\")\n",
    "    #plt.scatter(X_train,y_pred)\n",
    "    #plt.scatter(X_train,y_train)\n",
    "    \n",
    "    plt.figure()\n",
    "    plt.title(\"Predicted vs. actual for polynomial of degree {}\".format(degree),fontsize=15)\n",
    "    plt.xlabel(\"Actual values\")\n",
    "    plt.ylabel(\"Predicted values\")\n",
    "    plt.scatter(y_test,test_pred)\n",
    "    plt.plot(y_test,y_test,'r',lw=2)"
   ]
  },
  {
   "cell_type": "code",
   "execution_count": 37,
   "metadata": {
    "collapsed": true
   },
   "outputs": [],
   "source": [
    "from sklearn.externals import joblib\n",
    "# Load the pickle file\n",
    "helper1 = joblib.load('wallethub_predictor.pkl') "
   ]
  },
  {
   "cell_type": "code",
   "execution_count": null,
   "metadata": {
    "collapsed": true
   },
   "outputs": [],
   "source": []
  }
 ],
 "metadata": {
  "kernelspec": {
   "display_name": "Python 3",
   "language": "python",
   "name": "python3"
  },
  "language_info": {
   "codemirror_mode": {
    "name": "ipython",
    "version": 3
   },
   "file_extension": ".py",
   "mimetype": "text/x-python",
   "name": "python",
   "nbconvert_exporter": "python",
   "pygments_lexer": "ipython3",
   "version": "3.6.8"
  }
 },
 "nbformat": 4,
 "nbformat_minor": 2
}
